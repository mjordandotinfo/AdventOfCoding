{
 "cells": [
  {
   "cell_type": "code",
   "execution_count": 2,
   "metadata": {},
   "outputs": [],
   "source": [
    "f = open(\"test.txt\", \"r\")"
   ]
  },
  {
   "cell_type": "code",
   "execution_count": 2,
   "metadata": {},
   "outputs": [],
   "source": [
    "pts = {\n",
    "    'A': 1,\n",
    "    'B': 2,\n",
    "    'C': 3\n",
    "}\n",
    "\n",
    "rps = {\n",
    "    'A': 'C', # Rock    (X)  beats scissor (C)\n",
    "    'B': 'A', # Paper   (Y)  beats rock    (A)\n",
    "    'C': 'B', # Scissor (Z)  beats paper   (B)\n",
    "}\n",
    "\n",
    "def choosePlay(opp, player):\n",
    "    decrypt = {\n",
    "        'X': rps[opp],    #lose\n",
    "        'Y': opp, #draw\n",
    "        'Z': choosePlay(rps[opp], player)  #win\n",
    "    }\n",
    "\n",
    "    return decrypt[player]"
   ]
  },
  {
   "cell_type": "code",
   "execution_count": null,
   "metadata": {},
   "outputs": [
    {
     "ename": "",
     "evalue": "",
     "output_type": "error",
     "traceback": [
      "\u001b[1;31mCanceled future for execute_request message before replies were done"
     ]
    },
    {
     "ename": "",
     "evalue": "",
     "output_type": "error",
     "traceback": [
      "\u001b[1;31mThe Kernel crashed while executing code in the the current cell or a previous cell. Please review the code in the cell(s) to identify a possible cause of the failure. Click <a href='https://aka.ms/vscodeJupyterKernelCrash'>here</a> for more info. View Jupyter <a href='command:jupyter.viewOutput'>log</a> for further details."
     ]
    }
   ],
   "source": [
    "total = 0\n",
    "for line in f:\n",
    "    [opp, player] = line.split(\" \")\n",
    "    player = choosePlay(opp, player[0])\n",
    "    round = 3 #draw\n",
    "    if rps[player] == opp: #win\n",
    "        round = 6\n",
    "    elif rps[opp] == player: #lose\n",
    "        round = 0 \n",
    "    total += round + pts[player]\n",
    "    \n",
    "    \n",
    "print(total)"
   ]
  },
  {
   "cell_type": "code",
   "execution_count": 3,
   "metadata": {},
   "outputs": [],
   "source": [
    "f.close()"
   ]
  }
 ],
 "metadata": {
  "kernelspec": {
   "display_name": "Python 3.10.2 64-bit",
   "language": "python",
   "name": "python3"
  },
  "language_info": {
   "codemirror_mode": {
    "name": "ipython",
    "version": 3
   },
   "file_extension": ".py",
   "mimetype": "text/x-python",
   "name": "python",
   "nbconvert_exporter": "python",
   "pygments_lexer": "ipython3",
   "version": "3.10.2"
  },
  "orig_nbformat": 4,
  "vscode": {
   "interpreter": {
    "hash": "ce36f1a9ee7833f8d700a2e658191bbca2cca916cf24ac604a18fce597348999"
   }
  }
 },
 "nbformat": 4,
 "nbformat_minor": 2
}
